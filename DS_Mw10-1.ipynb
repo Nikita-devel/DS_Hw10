{
  "nbformat": 4,
  "nbformat_minor": 0,
  "metadata": {
    "colab": {
      "provenance": [],
      "authorship_tag": "ABX9TyM3gcEt0y+gZkRoj/gheMEG",
      "include_colab_link": true
    },
    "kernelspec": {
      "name": "python3",
      "display_name": "Python 3"
    },
    "language_info": {
      "name": "python"
    }
  },
  "cells": [
    {
      "cell_type": "markdown",
      "metadata": {
        "id": "view-in-github",
        "colab_type": "text"
      },
      "source": [
        "<a href=\"https://colab.research.google.com/github/Nikita-devel/DS_Hw10/blob/main/DS_Mw10-1.ipynb\" target=\"_parent\"><img src=\"https://colab.research.google.com/assets/colab-badge.svg\" alt=\"Open In Colab\"/></a>"
      ]
    },
    {
      "cell_type": "code",
      "execution_count": 4,
      "metadata": {
        "id": "3rakYZaC1TGo",
        "outputId": "c872095a-e764-4e33-db2d-f3d0bca28409",
        "colab": {
          "base_uri": "https://localhost:8080/"
        }
      },
      "outputs": [
        {
          "output_type": "stream",
          "name": "stdout",
          "text": [
            "Epoch 1/20\n",
            "469/469 [==============================] - 55s 115ms/step - loss: 0.6467 - accuracy: 0.7627 - val_loss: 0.4597 - val_accuracy: 0.8331\n",
            "Epoch 2/20\n",
            "469/469 [==============================] - 55s 118ms/step - loss: 0.3918 - accuracy: 0.8593 - val_loss: 0.3919 - val_accuracy: 0.8577\n",
            "Epoch 3/20\n",
            "469/469 [==============================] - 54s 116ms/step - loss: 0.3307 - accuracy: 0.8801 - val_loss: 0.3426 - val_accuracy: 0.8754\n",
            "Epoch 4/20\n",
            "469/469 [==============================] - 55s 116ms/step - loss: 0.2993 - accuracy: 0.8923 - val_loss: 0.3148 - val_accuracy: 0.8872\n",
            "Epoch 5/20\n",
            "469/469 [==============================] - 54s 115ms/step - loss: 0.2779 - accuracy: 0.8979 - val_loss: 0.3062 - val_accuracy: 0.8871\n",
            "Epoch 6/20\n",
            "469/469 [==============================] - 53s 114ms/step - loss: 0.2571 - accuracy: 0.9052 - val_loss: 0.2812 - val_accuracy: 0.8990\n",
            "Epoch 7/20\n",
            "469/469 [==============================] - 54s 115ms/step - loss: 0.2408 - accuracy: 0.9113 - val_loss: 0.2862 - val_accuracy: 0.8946\n",
            "Epoch 8/20\n",
            "469/469 [==============================] - 54s 116ms/step - loss: 0.2256 - accuracy: 0.9167 - val_loss: 0.2808 - val_accuracy: 0.9005\n",
            "Epoch 9/20\n",
            "469/469 [==============================] - 57s 122ms/step - loss: 0.2125 - accuracy: 0.9215 - val_loss: 0.2788 - val_accuracy: 0.8970\n",
            "Epoch 10/20\n",
            "469/469 [==============================] - 54s 115ms/step - loss: 0.1996 - accuracy: 0.9270 - val_loss: 0.2651 - val_accuracy: 0.9061\n",
            "Epoch 11/20\n",
            "469/469 [==============================] - 53s 114ms/step - loss: 0.1894 - accuracy: 0.9299 - val_loss: 0.2606 - val_accuracy: 0.9084\n",
            "Epoch 12/20\n",
            "469/469 [==============================] - 54s 116ms/step - loss: 0.1767 - accuracy: 0.9344 - val_loss: 0.2496 - val_accuracy: 0.9101\n",
            "Epoch 13/20\n",
            "469/469 [==============================] - 55s 117ms/step - loss: 0.1673 - accuracy: 0.9383 - val_loss: 0.2518 - val_accuracy: 0.9122\n",
            "Epoch 14/20\n",
            "469/469 [==============================] - 54s 115ms/step - loss: 0.1569 - accuracy: 0.9424 - val_loss: 0.2628 - val_accuracy: 0.9094\n",
            "Epoch 15/20\n",
            "469/469 [==============================] - 55s 116ms/step - loss: 0.1480 - accuracy: 0.9454 - val_loss: 0.2610 - val_accuracy: 0.9107\n",
            "Epoch 16/20\n",
            "469/469 [==============================] - 53s 114ms/step - loss: 0.1388 - accuracy: 0.9486 - val_loss: 0.2665 - val_accuracy: 0.9133\n",
            "Epoch 17/20\n",
            "469/469 [==============================] - 55s 116ms/step - loss: 0.1298 - accuracy: 0.9516 - val_loss: 0.2885 - val_accuracy: 0.9076\n",
            "Epoch 18/20\n",
            "469/469 [==============================] - 54s 114ms/step - loss: 0.1221 - accuracy: 0.9549 - val_loss: 0.2834 - val_accuracy: 0.9070\n",
            "Epoch 19/20\n",
            "469/469 [==============================] - 53s 113ms/step - loss: 0.1145 - accuracy: 0.9580 - val_loss: 0.2856 - val_accuracy: 0.9111\n",
            "Epoch 20/20\n",
            "469/469 [==============================] - 55s 116ms/step - loss: 0.1084 - accuracy: 0.9603 - val_loss: 0.3070 - val_accuracy: 0.9083\n",
            "313/313 [==============================] - 3s 10ms/step - loss: 0.3070 - accuracy: 0.9083\n",
            "Test Accuracy: 0.90829998254776\n"
          ]
        }
      ],
      "source": [
        "import numpy as np\n",
        "from keras.datasets import fashion_mnist\n",
        "from keras.models import Sequential\n",
        "from keras.layers import Conv2D, MaxPooling2D, Flatten, Dense\n",
        "from keras.optimizers import Adam\n",
        "\n",
        "# Завантаження та підготовка даних\n",
        "(x_train, y_train), (x_test, y_test) = fashion_mnist.load_data()\n",
        "\n",
        "# Формування тренувального та тестового датасетів\n",
        "x_train = np.expand_dims(x_train, axis=-1)\n",
        "x_test = np.expand_dims(x_test, axis=-1)\n",
        "\n",
        "# Нормалізація даних\n",
        "x_train = x_train.astype('float32') / 255.0\n",
        "x_test = x_test.astype('float32') / 255.0\n",
        "\n",
        "# Створення моделі згорткової нейронної мережі\n",
        "model = Sequential([\n",
        "    Conv2D(32, (3, 3), activation='relu', input_shape=(28, 28, 1)),\n",
        "    MaxPooling2D((2, 2)),\n",
        "    Conv2D(64, (3, 3), activation='relu'),\n",
        "    MaxPooling2D((2, 2)),\n",
        "    Conv2D(64, (3, 3), activation='relu'),\n",
        "    Flatten(),\n",
        "    Dense(64, activation='relu'),\n",
        "    Dense(10, activation='softmax')\n",
        "])\n",
        "\n",
        "# Компіляція моделі\n",
        "model.compile(optimizer='adam',\n",
        "              loss='sparse_categorical_crossentropy',\n",
        "              metrics=['accuracy'])\n",
        "\n",
        "# Навчання моделі\n",
        "history = model.fit(x_train, y_train, epochs=20, batch_size=128, validation_data=(x_test, y_test))\n",
        "\n",
        "# Оцінка точності моделі\n",
        "test_loss, test_acc = model.evaluate(x_test, y_test)\n",
        "print(\"Test Accuracy:\", test_acc)\n"
      ]
    }
  ]
}