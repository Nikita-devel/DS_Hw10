{
  "nbformat": 4,
  "nbformat_minor": 0,
  "metadata": {
    "colab": {
      "provenance": [],
      "authorship_tag": "ABX9TyP6RSSoffPhYhHD+8AwurVS",
      "include_colab_link": true
    },
    "kernelspec": {
      "name": "python3",
      "display_name": "Python 3"
    },
    "language_info": {
      "name": "python"
    }
  },
  "cells": [
    {
      "cell_type": "markdown",
      "metadata": {
        "id": "view-in-github",
        "colab_type": "text"
      },
      "source": [
        "<a href=\"https://colab.research.google.com/github/Nikita-devel/DS_Hw10/blob/main/DS_Mw10-1.ipynb\" target=\"_parent\"><img src=\"https://colab.research.google.com/assets/colab-badge.svg\" alt=\"Open In Colab\"/></a>"
      ]
    },
    {
      "cell_type": "code",
      "execution_count": 1,
      "metadata": {
        "id": "3rakYZaC1TGo",
        "outputId": "060071e0-d2fd-4b0d-d5c7-026655de083d",
        "colab": {
          "base_uri": "https://localhost:8080/"
        }
      },
      "outputs": [
        {
          "output_type": "stream",
          "name": "stdout",
          "text": [
            "Downloading data from https://storage.googleapis.com/tensorflow/tf-keras-datasets/train-labels-idx1-ubyte.gz\n",
            "29515/29515 [==============================] - 0s 0us/step\n",
            "Downloading data from https://storage.googleapis.com/tensorflow/tf-keras-datasets/train-images-idx3-ubyte.gz\n",
            "26421880/26421880 [==============================] - 0s 0us/step\n",
            "Downloading data from https://storage.googleapis.com/tensorflow/tf-keras-datasets/t10k-labels-idx1-ubyte.gz\n",
            "5148/5148 [==============================] - 0s 0us/step\n",
            "Downloading data from https://storage.googleapis.com/tensorflow/tf-keras-datasets/t10k-images-idx3-ubyte.gz\n",
            "4422102/4422102 [==============================] - 0s 0us/step\n",
            "Epoch 1/10\n",
            "469/469 [==============================] - 55s 114ms/step - loss: 0.6198 - accuracy: 0.7757 - val_loss: 0.4350 - val_accuracy: 0.8470\n",
            "Epoch 2/10\n",
            "469/469 [==============================] - 46s 98ms/step - loss: 0.3757 - accuracy: 0.8655 - val_loss: 0.3701 - val_accuracy: 0.8656\n",
            "Epoch 3/10\n",
            "469/469 [==============================] - 47s 100ms/step - loss: 0.3208 - accuracy: 0.8847 - val_loss: 0.3365 - val_accuracy: 0.8808\n",
            "Epoch 4/10\n",
            "469/469 [==============================] - 47s 100ms/step - loss: 0.2928 - accuracy: 0.8944 - val_loss: 0.3150 - val_accuracy: 0.8900\n",
            "Epoch 5/10\n",
            "469/469 [==============================] - 45s 96ms/step - loss: 0.2649 - accuracy: 0.9034 - val_loss: 0.2963 - val_accuracy: 0.8919\n",
            "Epoch 6/10\n",
            "469/469 [==============================] - 48s 103ms/step - loss: 0.2469 - accuracy: 0.9090 - val_loss: 0.2769 - val_accuracy: 0.9016\n",
            "Epoch 7/10\n",
            "469/469 [==============================] - 47s 100ms/step - loss: 0.2286 - accuracy: 0.9154 - val_loss: 0.3083 - val_accuracy: 0.8883\n",
            "Epoch 8/10\n",
            "469/469 [==============================] - 49s 104ms/step - loss: 0.2146 - accuracy: 0.9212 - val_loss: 0.2659 - val_accuracy: 0.9059\n",
            "Epoch 9/10\n",
            "469/469 [==============================] - 46s 98ms/step - loss: 0.2009 - accuracy: 0.9260 - val_loss: 0.2552 - val_accuracy: 0.9100\n",
            "Epoch 10/10\n",
            "469/469 [==============================] - 48s 103ms/step - loss: 0.1885 - accuracy: 0.9305 - val_loss: 0.2682 - val_accuracy: 0.9049\n",
            "313/313 [==============================] - 3s 11ms/step - loss: 0.2682 - accuracy: 0.9049\n",
            "Test Accuracy: 0.9049000144004822\n"
          ]
        }
      ],
      "source": [
        "import numpy as np\n",
        "import tensorflow as tf\n",
        "from tensorflow.keras.datasets import fashion_mnist\n",
        "from tensorflow.keras.models import Sequential\n",
        "from tensorflow.keras.layers import Conv2D, MaxPooling2D, Flatten, Dense\n",
        "from tensorflow.keras.optimizers import Adam\n",
        "\n",
        "# Завантаження та підготовка даних\n",
        "(x_train, y_train), (x_test, y_test) = fashion_mnist.load_data()\n",
        "\n",
        "# Формування тренувального та тестового датасетів\n",
        "x_train = np.expand_dims(x_train, axis=-1)\n",
        "x_test = np.expand_dims(x_test, axis=-1)\n",
        "\n",
        "# Нормалізація даних\n",
        "x_train = x_train.astype('float32') / 255.0\n",
        "x_test = x_test.astype('float32') / 255.0\n",
        "\n",
        "# Створення моделі згорткової нейронної мережі\n",
        "model = Sequential([\n",
        "    Conv2D(32, (3, 3), activation='relu', input_shape=(28, 28, 1)),\n",
        "    MaxPooling2D((2, 2)),\n",
        "    Conv2D(64, (3, 3), activation='relu'),\n",
        "    MaxPooling2D((2, 2)),\n",
        "    Conv2D(64, (3, 3), activation='relu'),\n",
        "    Flatten(),\n",
        "    Dense(64, activation='relu'),\n",
        "    Dense(10, activation='softmax')\n",
        "])\n",
        "\n",
        "# Компіляція моделі\n",
        "model.compile(optimizer='adam',\n",
        "              loss='sparse_categorical_crossentropy',\n",
        "              metrics=['accuracy'])\n",
        "\n",
        "# Навчання моделі\n",
        "history = model.fit(x_train, y_train, epochs=10, batch_size=128, validation_data=(x_test, y_test))\n",
        "\n",
        "# Оцінка точності моделі\n",
        "test_loss, test_acc = model.evaluate(x_test, y_test)\n",
        "print(\"Test Accuracy:\", test_acc)\n"
      ]
    }
  ]
}