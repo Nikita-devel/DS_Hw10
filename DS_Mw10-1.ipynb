{
  "nbformat": 4,
  "nbformat_minor": 0,
  "metadata": {
    "colab": {
      "provenance": [],
      "authorship_tag": "ABX9TyOpyiCUFuA9S8uQ1Wpn98CA",
      "include_colab_link": true
    },
    "kernelspec": {
      "name": "python3",
      "display_name": "Python 3"
    },
    "language_info": {
      "name": "python"
    }
  },
  "cells": [
    {
      "cell_type": "markdown",
      "metadata": {
        "id": "view-in-github",
        "colab_type": "text"
      },
      "source": [
        "<a href=\"https://colab.research.google.com/github/Nikita-devel/DS_Hw10/blob/main/DS_Mw10-1.ipynb\" target=\"_parent\"><img src=\"https://colab.research.google.com/assets/colab-badge.svg\" alt=\"Open In Colab\"/></a>"
      ]
    },
    {
      "cell_type": "code",
      "execution_count": 1,
      "metadata": {
        "id": "3rakYZaC1TGo",
        "outputId": "0ddd9a2c-2dda-4183-de6f-a0591d158af1",
        "colab": {
          "base_uri": "https://localhost:8080/"
        }
      },
      "outputs": [
        {
          "output_type": "stream",
          "name": "stdout",
          "text": [
            "Downloading data from https://storage.googleapis.com/tensorflow/tf-keras-datasets/train-labels-idx1-ubyte.gz\n",
            "29515/29515 [==============================] - 0s 0us/step\n",
            "Downloading data from https://storage.googleapis.com/tensorflow/tf-keras-datasets/train-images-idx3-ubyte.gz\n",
            "26421880/26421880 [==============================] - 0s 0us/step\n",
            "Downloading data from https://storage.googleapis.com/tensorflow/tf-keras-datasets/t10k-labels-idx1-ubyte.gz\n",
            "5148/5148 [==============================] - 0s 0us/step\n",
            "Downloading data from https://storage.googleapis.com/tensorflow/tf-keras-datasets/t10k-images-idx3-ubyte.gz\n",
            "4422102/4422102 [==============================] - 0s 0us/step\n",
            "Epoch 1/10\n",
            "938/938 [==============================] - 67s 66ms/step - loss: 0.5512 - accuracy: 0.7943 - val_loss: 0.4135 - val_accuracy: 0.8514\n",
            "Epoch 2/10\n",
            "938/938 [==============================] - 50s 53ms/step - loss: 0.3457 - accuracy: 0.8754 - val_loss: 0.3580 - val_accuracy: 0.8659\n",
            "Epoch 3/10\n",
            "938/938 [==============================] - 52s 55ms/step - loss: 0.2957 - accuracy: 0.8928 - val_loss: 0.3065 - val_accuracy: 0.8913\n",
            "Epoch 4/10\n",
            "938/938 [==============================] - 49s 52ms/step - loss: 0.2626 - accuracy: 0.9044 - val_loss: 0.2782 - val_accuracy: 0.9018\n",
            "Epoch 5/10\n",
            "938/938 [==============================] - 50s 53ms/step - loss: 0.2405 - accuracy: 0.9115 - val_loss: 0.2709 - val_accuracy: 0.9022\n",
            "Epoch 6/10\n",
            "938/938 [==============================] - 51s 54ms/step - loss: 0.2203 - accuracy: 0.9189 - val_loss: 0.2764 - val_accuracy: 0.8985\n",
            "Epoch 7/10\n",
            "938/938 [==============================] - 50s 53ms/step - loss: 0.2040 - accuracy: 0.9240 - val_loss: 0.2697 - val_accuracy: 0.9023\n",
            "Epoch 8/10\n",
            "938/938 [==============================] - 52s 55ms/step - loss: 0.1867 - accuracy: 0.9313 - val_loss: 0.2628 - val_accuracy: 0.9066\n",
            "Epoch 9/10\n",
            "938/938 [==============================] - 53s 56ms/step - loss: 0.1740 - accuracy: 0.9347 - val_loss: 0.2717 - val_accuracy: 0.9046\n",
            "Epoch 10/10\n",
            "938/938 [==============================] - 49s 53ms/step - loss: 0.1591 - accuracy: 0.9404 - val_loss: 0.2788 - val_accuracy: 0.9067\n",
            "313/313 [==============================] - 3s 9ms/step - loss: 0.2788 - accuracy: 0.9067\n",
            "Test accuracy: 0.9067000150680542\n"
          ]
        }
      ],
      "source": [
        "import numpy as np\n",
        "import keras\n",
        "from keras.datasets import fashion_mnist\n",
        "from keras.models import Sequential\n",
        "from keras.layers import Conv2D, MaxPooling2D, Flatten, Dense, Dropout\n",
        "\n",
        "# Завантаження даних\n",
        "(x_train, y_train), (x_test, y_test) = fashion_mnist.load_data()\n",
        "\n",
        "# Підготовка даних\n",
        "x_train = x_train.reshape(x_train.shape[0], 28, 28, 1).astype('float32') / 255\n",
        "x_test = x_test.reshape(x_test.shape[0], 28, 28, 1).astype('float32') / 255\n",
        "y_train = keras.utils.to_categorical(y_train, 10)\n",
        "y_test = keras.utils.to_categorical(y_test, 10)\n",
        "\n",
        "# Створення моделі\n",
        "model = Sequential()\n",
        "model.add(Conv2D(32, (3, 3), activation='relu', input_shape=(28, 28, 1)))\n",
        "model.add(MaxPooling2D((2, 2)))\n",
        "model.add(Conv2D(64, (3, 3), activation='relu'))\n",
        "model.add(MaxPooling2D((2, 2)))\n",
        "model.add(Conv2D(64, (3, 3), activation='relu'))\n",
        "model.add(Flatten())\n",
        "model.add(Dense(64, activation='relu'))\n",
        "model.add(Dense(10, activation='softmax'))\n",
        "\n",
        "# Компіляція моделі\n",
        "model.compile(optimizer='adam',\n",
        "              loss='categorical_crossentropy',\n",
        "              metrics=['accuracy'])\n",
        "\n",
        "# Навчання моделі\n",
        "history = model.fit(x_train, y_train, epochs=10, batch_size=64, validation_data=(x_test, y_test))\n",
        "\n",
        "# Оцінка моделі\n",
        "test_loss, test_acc = model.evaluate(x_test, y_test)\n",
        "print('Test accuracy:', test_acc)\n"
      ]
    }
  ]
}