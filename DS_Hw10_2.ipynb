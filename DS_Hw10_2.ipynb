{
  "nbformat": 4,
  "nbformat_minor": 0,
  "metadata": {
    "colab": {
      "provenance": [],
      "authorship_tag": "ABX9TyMIMWw3hBSzZ2zgm3P6DA0j",
      "include_colab_link": true
    },
    "kernelspec": {
      "name": "python3",
      "display_name": "Python 3"
    },
    "language_info": {
      "name": "python"
    }
  },
  "cells": [
    {
      "cell_type": "markdown",
      "metadata": {
        "id": "view-in-github",
        "colab_type": "text"
      },
      "source": [
        "<a href=\"https://colab.research.google.com/github/Nikita-devel/DS_Hw10/blob/main/DS_Hw10_2.ipynb\" target=\"_parent\"><img src=\"https://colab.research.google.com/assets/colab-badge.svg\" alt=\"Open In Colab\"/></a>"
      ]
    },
    {
      "cell_type": "code",
      "execution_count": 5,
      "metadata": {
        "colab": {
          "base_uri": "https://localhost:8080/"
        },
        "id": "_9a5G98v_Isf",
        "outputId": "ef89c0bd-4f55-48fe-cc14-bd372b9b34ad"
      },
      "outputs": [
        {
          "output_type": "stream",
          "name": "stdout",
          "text": [
            "Epoch 1/10\n",
            "469/469 [==============================] - 49s 102ms/step - loss: 0.5389 - accuracy: 0.8077 - val_loss: 0.4074 - val_accuracy: 0.8562\n",
            "Epoch 2/10\n",
            "469/469 [==============================] - 47s 100ms/step - loss: 0.3542 - accuracy: 0.8733 - val_loss: 0.3337 - val_accuracy: 0.8787\n",
            "Epoch 3/10\n",
            "469/469 [==============================] - 45s 96ms/step - loss: 0.3063 - accuracy: 0.8876 - val_loss: 0.3262 - val_accuracy: 0.8784\n",
            "Epoch 4/10\n",
            "469/469 [==============================] - 47s 100ms/step - loss: 0.2724 - accuracy: 0.9007 - val_loss: 0.2903 - val_accuracy: 0.8931\n",
            "Epoch 5/10\n",
            "469/469 [==============================] - 46s 97ms/step - loss: 0.2515 - accuracy: 0.9077 - val_loss: 0.2948 - val_accuracy: 0.8926\n",
            "Epoch 6/10\n",
            "469/469 [==============================] - 45s 97ms/step - loss: 0.2299 - accuracy: 0.9161 - val_loss: 0.2754 - val_accuracy: 0.9023\n",
            "Epoch 7/10\n",
            "469/469 [==============================] - 46s 99ms/step - loss: 0.2130 - accuracy: 0.9216 - val_loss: 0.2686 - val_accuracy: 0.9021\n",
            "Epoch 8/10\n",
            "469/469 [==============================] - 45s 95ms/step - loss: 0.1952 - accuracy: 0.9279 - val_loss: 0.2597 - val_accuracy: 0.9056\n",
            "Epoch 9/10\n",
            "469/469 [==============================] - 46s 98ms/step - loss: 0.1834 - accuracy: 0.9325 - val_loss: 0.2598 - val_accuracy: 0.9087\n",
            "Epoch 10/10\n",
            "469/469 [==============================] - 46s 99ms/step - loss: 0.1690 - accuracy: 0.9370 - val_loss: 0.2465 - val_accuracy: 0.9102\n",
            "313/313 [==============================] - 3s 9ms/step - loss: 0.2465 - accuracy: 0.9102\n",
            "Test Accuracy: 0.9101999998092651\n"
          ]
        }
      ],
      "source": [
        "import numpy as np\n",
        "from keras.datasets import fashion_mnist\n",
        "from keras.models import Sequential, Model\n",
        "from keras.layers import Conv2D, MaxPooling2D, Flatten, Dense, Dropout\n",
        "from keras.optimizers import Adam\n",
        "from keras.applications import VGG16\n",
        "from keras.preprocessing.image import img_to_array, array_to_img\n",
        "\n",
        "# Завантаження та підготовка даних\n",
        "(x_train, y_train), (x_test, y_test) = fashion_mnist.load_data()\n",
        "\n",
        "# Нормалізація даних та зміна формату зображень\n",
        "x_train = x_train.astype('float32') / 255.0\n",
        "x_test = x_test.astype('float32') / 255.0\n",
        "x_train = np.expand_dims(x_train, axis=-1)\n",
        "x_test = np.expand_dims(x_test, axis=-1)\n",
        "\n",
        "# Створення моделі згорткової нейронної мережі\n",
        "model = Sequential([\n",
        "    Conv2D(32, (3, 3), activation='relu', input_shape=(28, 28, 1)),\n",
        "    MaxPooling2D((2, 2)),\n",
        "    Conv2D(64, (3, 3), activation='relu'),\n",
        "    MaxPooling2D((2, 2)),\n",
        "    Flatten(),\n",
        "    Dense(128, activation='relu'),\n",
        "    Dense(10, activation='softmax')\n",
        "])\n",
        "\n",
        "# Компіляція моделі\n",
        "model.compile(optimizer='adam',\n",
        "              loss='sparse_categorical_crossentropy',\n",
        "              metrics=['accuracy'])\n",
        "\n",
        "# Навчання моделі з меншою кількістю епох та оновленим розміром зображення\n",
        "history = model.fit(x_train, y_train, epochs=10, batch_size=128, validation_data=(x_test, y_test))\n",
        "\n",
        "# Оцінка точності моделі\n",
        "test_loss, test_acc = model.evaluate(x_test, y_test)\n",
        "print(\"Test Accuracy:\", test_acc)\n"
      ]
    }
  ]
}