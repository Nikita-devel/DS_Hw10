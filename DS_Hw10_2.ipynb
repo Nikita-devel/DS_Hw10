{
  "nbformat": 4,
  "nbformat_minor": 0,
  "metadata": {
    "colab": {
      "provenance": [],
      "authorship_tag": "ABX9TyMlU/uuvO3CWn79fe04e1ln",
      "include_colab_link": true
    },
    "kernelspec": {
      "name": "python3",
      "display_name": "Python 3"
    },
    "language_info": {
      "name": "python"
    }
  },
  "cells": [
    {
      "cell_type": "markdown",
      "metadata": {
        "id": "view-in-github",
        "colab_type": "text"
      },
      "source": [
        "<a href=\"https://colab.research.google.com/github/Nikita-devel/DS_Hw10/blob/main/DS_Hw10_2.ipynb\" target=\"_parent\"><img src=\"https://colab.research.google.com/assets/colab-badge.svg\" alt=\"Open In Colab\"/></a>"
      ]
    },
    {
      "cell_type": "code",
      "execution_count": null,
      "metadata": {
        "colab": {
          "base_uri": "https://localhost:8080/"
        },
        "id": "_9a5G98v_Isf",
        "outputId": "acc6985f-bc78-4e05-b54d-997b55cd4c3a"
      },
      "outputs": [
        {
          "metadata": {
            "tags": null
          },
          "name": "stderr",
          "output_type": "stream",
          "text": [
            "WARNING:absl:`lr` is deprecated in Keras optimizer, please use `learning_rate` or use the legacy optimizer, e.g.,tf.keras.optimizers.legacy.Adam.\n"
          ]
        },
        {
          "output_type": "stream",
          "name": "stdout",
          "text": [
            "Epoch 1/10\n",
            "169/469 [=========>....................] - ETA: 6:46 - loss: 0.7705 - accuracy: 0.7412"
          ]
        }
      ],
      "source": [
        "import numpy as np\n",
        "import tensorflow as tf\n",
        "from tensorflow.keras.datasets import fashion_mnist\n",
        "from tensorflow.keras.models import Sequential\n",
        "from tensorflow.keras.layers import Dense, Flatten\n",
        "from tensorflow.keras.applications import VGG16\n",
        "from tensorflow.keras.optimizers import Adam\n",
        "\n",
        "# Завантаження та підготовка даних\n",
        "(x_train, y_train), (x_test, y_test) = fashion_mnist.load_data()\n",
        "\n",
        "# Змінення розміру зображень з (28, 28) до (32, 32) та додавання каналу кольору\n",
        "x_train = np.expand_dims(x_train, axis=-1)\n",
        "x_test = np.expand_dims(x_test, axis=-1)\n",
        "x_train = np.concatenate([x_train, x_train, x_train], axis=-1)  # Додаємо канал кольору\n",
        "x_test = np.concatenate([x_test, x_test, x_test], axis=-1)  # Додаємо канал кольору\n",
        "x_train_resized = tf.image.resize(x_train, [32, 32])\n",
        "x_test_resized = tf.image.resize(x_test, [32, 32])\n",
        "\n",
        "# Нормалізація даних\n",
        "x_train_resized = x_train_resized / 255.0\n",
        "x_test_resized = x_test_resized / 255.0\n",
        "\n",
        "# Завантаження згорткової основи VGG16 без верхніх повнозв'язних шарів та без ваг\n",
        "vgg_base = VGG16(weights='imagenet', include_top=False, input_shape=(32, 32, 3))\n",
        "\n",
        "# Збудування моделі на основі VGG16\n",
        "model = Sequential()\n",
        "model.add(vgg_base)\n",
        "model.add(Flatten())\n",
        "model.add(Dense(256, activation='relu'))\n",
        "model.add(Dense(10, activation='softmax'))  # 10 класів у fashion_mnist\n",
        "\n",
        "# Заморожуємо ваги згорткової основи\n",
        "vgg_base.trainable = False\n",
        "\n",
        "# Компіляція моделі\n",
        "model.compile(optimizer=Adam(lr=1e-4), loss='sparse_categorical_crossentropy', metrics=['accuracy'])\n",
        "\n",
        "# Навчання моделі\n",
        "history = model.fit(x_train_resized, y_train, epochs=10, batch_size=128, validation_data=(x_test_resized, y_test))\n",
        "\n",
        "# Виведення результатів\n",
        "test_loss, test_acc = model.evaluate(x_test_resized, y_test)\n",
        "print(\"Test Accuracy:\", test_acc)\n"
      ]
    }
  ]
}