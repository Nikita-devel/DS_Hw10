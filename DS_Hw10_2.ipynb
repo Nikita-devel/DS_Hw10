{
  "nbformat": 4,
  "nbformat_minor": 0,
  "metadata": {
    "colab": {
      "provenance": [],
      "authorship_tag": "ABX9TyM/Xtr7jXzJ0G+CiJL29bMX",
      "include_colab_link": true
    },
    "kernelspec": {
      "name": "python3",
      "display_name": "Python 3"
    },
    "language_info": {
      "name": "python"
    }
  },
  "cells": [
    {
      "cell_type": "markdown",
      "metadata": {
        "id": "view-in-github",
        "colab_type": "text"
      },
      "source": [
        "<a href=\"https://colab.research.google.com/github/Nikita-devel/DS_Hw10/blob/main/DS_Hw10_2.ipynb\" target=\"_parent\"><img src=\"https://colab.research.google.com/assets/colab-badge.svg\" alt=\"Open In Colab\"/></a>"
      ]
    },
    {
      "cell_type": "code",
      "execution_count": null,
      "metadata": {
        "colab": {
          "base_uri": "https://localhost:8080/"
        },
        "id": "_9a5G98v_Isf",
        "outputId": "9014a83c-99c9-47cb-cb27-85aca60a986f"
      },
      "outputs": [
        {
          "output_type": "stream",
          "name": "stdout",
          "text": [
            "Epoch 1/20\n",
            "419/469 [=========================>....] - ETA: 6s - loss: 0.6075 - accuracy: 0.7785"
          ]
        }
      ],
      "source": [
        "import numpy as np\n",
        "from keras.datasets import fashion_mnist\n",
        "from keras.models import Sequential\n",
        "from keras.layers import Conv2D, MaxPooling2D, Flatten, Dense\n",
        "from keras.optimizers import Adam\n",
        "\n",
        "# Завантаження та підготовка даних\n",
        "(x_train, y_train), (x_test, y_test) = fashion_mnist.load_data()\n",
        "\n",
        "# Розширення розміру зображень з 28x28 до 32x32\n",
        "x_train_resized = np.pad(x_train, ((0,0), (2,2), (2,2)), 'constant')\n",
        "x_test_resized = np.pad(x_test, ((0,0), (2,2), (2,2)), 'constant')\n",
        "\n",
        "# Нормалізація даних\n",
        "x_train_resized = x_train_resized.astype('float32') / 255.0\n",
        "x_test_resized = x_test_resized.astype('float32') / 255.0\n",
        "\n",
        "# Створення моделі згорткової нейронної мережі\n",
        "model = Sequential([\n",
        "    Conv2D(32, (3, 3), activation='relu', input_shape=(32, 32, 1)),\n",
        "    MaxPooling2D((2, 2)),\n",
        "    Conv2D(64, (3, 3), activation='relu'),\n",
        "    MaxPooling2D((2, 2)),\n",
        "    Conv2D(64, (3, 3), activation='relu'),\n",
        "    Flatten(),\n",
        "    Dense(64, activation='relu'),\n",
        "    Dense(10, activation='softmax')\n",
        "])\n",
        "\n",
        "# Компіляція моделі\n",
        "model.compile(optimizer='adam',\n",
        "              loss='sparse_categorical_crossentropy',\n",
        "              metrics=['accuracy'])\n",
        "\n",
        "# Навчання моделі\n",
        "history = model.fit(x_train_resized[..., np.newaxis], y_train, epochs=20, batch_size=128, validation_data=(x_test_resized[..., np.newaxis], y_test))\n",
        "\n",
        "# Оцінка точності моделі\n",
        "test_loss, test_acc = model.evaluate(x_test_resized[..., np.newaxis], y_test)\n",
        "print(\"Test Accuracy:\", test_acc)\n"
      ]
    }
  ]
}